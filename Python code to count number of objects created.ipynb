{
 "cells": [
  {
   "cell_type": "code",
   "execution_count": 2,
   "id": "fccabc53",
   "metadata": {},
   "outputs": [
    {
     "name": "stdout",
     "output_type": "stream",
     "text": [
      "Total number of objects created:  4\n"
     ]
    }
   ],
   "source": [
    "# Create a Student class\n",
    "class Student :\n",
    "\n",
    "    # initialise class variable\n",
    "    counter = 0\n",
    "\n",
    "    # Constructor method\n",
    "    def __init__(self,name,age) :\n",
    "\n",
    "        # instance variable or object attributes\n",
    "        self.name = name\n",
    "        self.age = age\n",
    "\n",
    "        # incrementing the class variable by 1\n",
    "        # whenever new object is created\n",
    "        Student.counter += 1\n",
    "\n",
    "    # Create a method for printing details\n",
    "    def printDetails(self) :\n",
    "        print(self.name,self.age,\"years old\")\n",
    "\n",
    "    \n",
    "\n",
    "# Create an object of Student class with attributes\n",
    "student1 = Student('prem',22)\n",
    "student2 = Student('shankar',21)\n",
    "student3 = Student('Bijay',23)\n",
    "student3 = Student('Lakshman',24)\n",
    "\n",
    "# Print the total no. of objects cretaed \n",
    "print(\"Total number of objects created: \",Student.counter)\n"
   ]
  },
  {
   "cell_type": "code",
   "execution_count": null,
   "id": "bb95991e",
   "metadata": {},
   "outputs": [],
   "source": []
  }
 ],
 "metadata": {
  "kernelspec": {
   "display_name": "Python 3 (ipykernel)",
   "language": "python",
   "name": "python3"
  },
  "language_info": {
   "codemirror_mode": {
    "name": "ipython",
    "version": 3
   },
   "file_extension": ".py",
   "mimetype": "text/x-python",
   "name": "python",
   "nbconvert_exporter": "python",
   "pygments_lexer": "ipython3",
   "version": "3.9.12"
  }
 },
 "nbformat": 4,
 "nbformat_minor": 5
}
