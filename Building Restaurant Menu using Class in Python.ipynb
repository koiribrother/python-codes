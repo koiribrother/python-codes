{
 "cells": [
  {
   "cell_type": "code",
   "execution_count": 1,
   "id": "e32653f4",
   "metadata": {},
   "outputs": [
    {
     "name": "stdout",
     "output_type": "stream",
     "text": [
      "1 .  Coffee : 250\n",
      "2 .  Tea : 150\n",
      "3 .  Pizza : 180\n",
      "4 .  Burger : 70\n",
      "5 .  Fries : 65\n",
      "6 .  Apple : 55\n",
      "7 .  Donut : 120\n",
      "8 .  Cake : 350\n"
     ]
    }
   ],
   "source": [
    "# Definig a class food, \n",
    "# which contain name and price of the food item\n",
    "\n",
    "class Food(object):\n",
    "    def __init__(self, name, price):\n",
    "        self.name = name\n",
    "        self.price = price\n",
    "    \n",
    "    def getprice(self):\n",
    "        return self.price\n",
    "    \n",
    "    def __str__(self):\n",
    "        return self.name + ' : ' + str(self.getprice())\n",
    "  \n",
    "# Defining a function for building a Menu \n",
    "# which generates list of Food    \n",
    "def buildmenu(names, costs):\n",
    "    menu = []\n",
    "    for i in range(len(names)):\n",
    "        menu.append(Food(names[i], costs[i]))\n",
    "    return menu\n",
    "\n",
    "# items\n",
    "names = ['Coffee', 'Tea', 'Pizza', 'Burger', 'Fries', 'Apple', 'Donut', 'Cake']\n",
    "\n",
    "# prices\n",
    "costs = [250, 150, 180, 70, 65, 55, 120, 350]\n",
    "\n",
    "# building food menu\n",
    "Foods = buildmenu(names, costs)\n",
    "\n",
    "n = 1\n",
    "for el in Foods:\n",
    "    print(n,'. ', el)\n",
    "    n = n + 1\n"
   ]
  },
  {
   "cell_type": "code",
   "execution_count": null,
   "id": "bc858985",
   "metadata": {},
   "outputs": [],
   "source": []
  }
 ],
 "metadata": {
  "kernelspec": {
   "display_name": "Python 3 (ipykernel)",
   "language": "python",
   "name": "python3"
  },
  "language_info": {
   "codemirror_mode": {
    "name": "ipython",
    "version": 3
   },
   "file_extension": ".py",
   "mimetype": "text/x-python",
   "name": "python",
   "nbconvert_exporter": "python",
   "pygments_lexer": "ipython3",
   "version": "3.9.12"
  }
 },
 "nbformat": 4,
 "nbformat_minor": 5
}
