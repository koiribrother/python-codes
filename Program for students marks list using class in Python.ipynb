{
 "cells": [
  {
   "cell_type": "code",
   "execution_count": 1,
   "id": "779da953",
   "metadata": {},
   "outputs": [
    {
     "name": "stdout",
     "output_type": "stream",
     "text": [
      "Enter the name of the student: prem\n",
      "Enter the roll number: 14\n",
      "Marks: 500\n",
      "another student? y/n: y\n",
      "Enter the name of the student: Shankar\n",
      "Enter the roll number: 01\n",
      "Marks: 500\n",
      "another student? y/n: y\n",
      "Enter the name of the student: Lakshman\n",
      "Enter the roll number: 08\n",
      "Marks: 500\n",
      "another student? y/n: y\n",
      "Enter the name of the student: Bijay\n",
      "Enter the roll number: 03\n",
      "Marks: 500\n",
      "another student? y/n: n\n",
      "1 .  prem : 500  ::14\n",
      "2 .  Shankar : 500  ::01\n",
      "3 .  Lakshman : 500  ::08\n",
      "4 .  Bijay : 500  ::03\n"
     ]
    }
   ],
   "source": [
    "# Definig a class student, which contain \n",
    "# name and Roll number and marks of the student\n",
    "\n",
    "class Student(object):\n",
    "    def __init__(self, name, roll, marks):\n",
    "        self.name = name\n",
    "        self.roll = roll\n",
    "        self.marks = marks\n",
    "    \n",
    "    def getmarks(self):\n",
    "        return self.marks\n",
    "    \n",
    "    def getroll(self):\n",
    "        return self.roll\n",
    "    \n",
    "    def __str__(self):\n",
    "        return self.name + ' : ' + str(self.getroll()) +'  ::'+  str(self.getmarks())\n",
    "  \n",
    "# Defining a function for building a Record \n",
    "# which generates list of all the students    \n",
    "def Markss(rec, name, roll, marks):\n",
    "    rec.append(Student(name, roll, marks))\n",
    "    return rec\n",
    "\n",
    "# Main Code\n",
    "Record = []\n",
    "x = 'y'\n",
    "while x == 'y':\n",
    "    name = input('Enter the name of the student: ')\n",
    "    height = input('Enter the roll number: ')\n",
    "    roll = input('Marks: ')\n",
    "    Record = Markss(Record, name, roll, height)\n",
    "    x = input('another student? y/n: ')\n",
    "    \n",
    "# Printing the list of student\n",
    "n = 1\n",
    "for el in Record:\n",
    "    print(n,'. ', el)\n",
    "    n = n + 1\n"
   ]
  },
  {
   "cell_type": "code",
   "execution_count": null,
   "id": "68f5dc2b",
   "metadata": {},
   "outputs": [],
   "source": []
  }
 ],
 "metadata": {
  "kernelspec": {
   "display_name": "Python 3 (ipykernel)",
   "language": "python",
   "name": "python3"
  },
  "language_info": {
   "codemirror_mode": {
    "name": "ipython",
    "version": 3
   },
   "file_extension": ".py",
   "mimetype": "text/x-python",
   "name": "python",
   "nbconvert_exporter": "python",
   "pygments_lexer": "ipython3",
   "version": "3.9.12"
  }
 },
 "nbformat": 4,
 "nbformat_minor": 5
}
