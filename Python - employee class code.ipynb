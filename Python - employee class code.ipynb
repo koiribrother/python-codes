{
 "cells": [
  {
   "cell_type": "code",
   "execution_count": 8,
   "id": "08a9eeb3",
   "metadata": {},
   "outputs": [
    {
     "name": "stdout",
     "output_type": "stream",
     "text": [
      "Id\t\t: 1\n",
      "Name\t: Shankar\n",
      "Gender\t: male\n",
      "City\t: Bhw\n",
      "Salary\t: 35000\n",
      "Devloper\t: python\n"
     ]
    }
   ],
   "source": [
    "# employee class code in Python\n",
    "# class definition\n",
    "class Employee:\n",
    "    __id=0\n",
    "    __name=\"\"\n",
    "    __gender=\"\"\n",
    "    __city=\"\"\n",
    "    __salary=0\n",
    "    __devloper=\"\"\n",
    "\t\n",
    "\t# function to set data \n",
    "    def setData(self,id,name,gender,city,salary,devloper):\n",
    "        self.__id = id\n",
    "        self.__name = name\n",
    "        self.__gender = gender\n",
    "        self.__city = city\n",
    "        self.__salary = salary\n",
    "        self.__devloper = devloper\n",
    "\t\n",
    "\t# function to get/print data\n",
    "    def showData(self):\n",
    "        print(\"Id\\t\\t:\",self.__id)\n",
    "        print(\"Name\\t:\", self.__name)\n",
    "        print(\"Gender\\t:\", self.__gender)\n",
    "        print(\"City\\t:\", self.__city)\n",
    "        print(\"Salary\\t:\", self.__salary)\n",
    "        print(\"Devloper\\t:\", self.__devloper)\n",
    "\n",
    "# main function definition\n",
    "def main():\n",
    "    #Employee Object\n",
    "    emp=Employee()\n",
    "    emp.setData(1,'Shankar','male','Bhw',35000,'python')\n",
    "    emp.showData()\n",
    "\t\n",
    "if __name__==\"__main__\":\n",
    "    main()\n"
   ]
  },
  {
   "cell_type": "code",
   "execution_count": 17,
   "id": "4b6d74d4",
   "metadata": {},
   "outputs": [
    {
     "name": "stdout",
     "output_type": "stream",
     "text": [
      "Enter Id:\t001\n",
      "Enter Name:\tShankar\n",
      "Enter Gender:\tmale\n",
      "Enter City:\tBhw\n",
      "Enter Salary:\t40000\n",
      "Enter Devloper:\tPython\n",
      "Id\t\t: 1\n",
      "Name\t: Shankar\n",
      "Gender\t: male\n",
      "City\t: Bhw\n",
      "Salary\t: 40000\n",
      "Devloper\t: Python\n"
     ]
    }
   ],
   "source": [
    "class Employee:\n",
    "    __id=0\n",
    "    __name=\"\"\n",
    "    __gender=\"\"\n",
    "    __city=\"\"\n",
    "    __salary=0\n",
    "    __devloper=\"\"\n",
    "    \n",
    "    def setData(self):\n",
    "        self.__id=int(input(\"Enter Id:\\t\"))\n",
    "        self.__name = input(\"Enter Name:\\t\")\n",
    "        self.__gender = input(\"Enter Gender:\\t\")\n",
    "        self.__city = input(\"Enter City:\\t\")\n",
    "        self.__salary = int(input(\"Enter Salary:\\t\"))\n",
    "        self.__devloper = input(\"Enter Devloper:\\t\")\n",
    "    def showData(self):\n",
    "        print(\"Id\\t\\t:\",self.__id)\n",
    "        print(\"Name\\t:\", self.__name)\n",
    "        print(\"Gender\\t:\", self.__gender)\n",
    "        print(\"City\\t:\", self.__city)\n",
    "        print(\"Salary\\t:\", self.__salary)\n",
    "        print(\"Devloper\\t:\", self.__devloper)\n",
    "\n",
    "\n",
    "def main():\n",
    "    #Employee Object\n",
    "    emp=Employee()\n",
    "    emp.setData()\n",
    "    emp.showData()\n",
    "\n",
    "if __name__==\"__main__\":\n",
    "    main()\n"
   ]
  },
  {
   "cell_type": "code",
   "execution_count": null,
   "id": "df35ac13",
   "metadata": {},
   "outputs": [],
   "source": []
  }
 ],
 "metadata": {
  "kernelspec": {
   "display_name": "Python 3 (ipykernel)",
   "language": "python",
   "name": "python3"
  },
  "language_info": {
   "codemirror_mode": {
    "name": "ipython",
    "version": 3
   },
   "file_extension": ".py",
   "mimetype": "text/x-python",
   "name": "python",
   "nbconvert_exporter": "python",
   "pygments_lexer": "ipython3",
   "version": "3.9.12"
  }
 },
 "nbformat": 4,
 "nbformat_minor": 5
}
