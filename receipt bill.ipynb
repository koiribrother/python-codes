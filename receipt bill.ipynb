{
 "cells": [
  {
   "cell_type": "code",
   "execution_count": 3,
   "id": "3e06970f",
   "metadata": {},
   "outputs": [
    {
     "name": "stdout",
     "output_type": "stream",
     "text": [
      "--------------WELCOME TO XYZ Shop--------------\n",
      "\n",
      "Enter Item name:apple\n",
      "Enter the Price:20\n",
      "Enter Item name:orange\n",
      "Enter the Price:40\n",
      "Enter Item name:mango\n",
      "Enter the Price:30\n",
      "Enter Item name:pear\n",
      "Enter the Price:32\n",
      "Enter Item name:pineapple\n",
      "Enter the Price:45\n",
      "Enter Item name:q\n",
      "+-----------+------------+\n",
      "| Item Name | Item Price |\n",
      "+-----------+------------+\n",
      "|   apple   |     20     |\n",
      "|   orange  |     40     |\n",
      "|   mango   |     30     |\n",
      "|    pear   |     32     |\n",
      "| pineapple |     45     |\n",
      "|   TOTAL   |    167     |\n",
      "+-----------+------------+\n",
      "\n",
      "Thanks for shopping with us :)\n",
      "Your total bill amount is  167 /-\n"
     ]
    }
   ],
   "source": [
    "from prettytable import PrettyTable\n",
    "\n",
    "\n",
    "print('--------------WELCOME TO XYZ Shop--------------\\n')\n",
    "table = PrettyTable(['Item Name', 'Item Price'])\n",
    "total = 0\n",
    "\n",
    "while(1):\n",
    "\tname = input('Enter Item name:')\n",
    "\t\n",
    "\t# 'q' to exit and print the table\n",
    "\tif(name != 'q'):\n",
    "\t\tprice = int(input('Enter the Price:'))\n",
    "\t\t\n",
    "\t\t# store all the prices in 'total'\n",
    "\t\ttotal += price\n",
    "\t\ttable.add_row([name, price])\n",
    "\t\tcontinue\n",
    "\t\n",
    "\telif(name == 'q'):\n",
    "\t\tbreak\n",
    "\t\t\n",
    "table.add_row(['TOTAL', total])\n",
    "print(table)\n",
    "print('\\nThanks for shopping with us :)')\n",
    "print('Your total bill amount is ', total, '/-')\n"
   ]
  },
  {
   "cell_type": "code",
   "execution_count": null,
   "id": "f8cc3abe",
   "metadata": {},
   "outputs": [],
   "source": []
  }
 ],
 "metadata": {
  "kernelspec": {
   "display_name": "Python 3 (ipykernel)",
   "language": "python",
   "name": "python3"
  },
  "language_info": {
   "codemirror_mode": {
    "name": "ipython",
    "version": 3
   },
   "file_extension": ".py",
   "mimetype": "text/x-python",
   "name": "python",
   "nbconvert_exporter": "python",
   "pygments_lexer": "ipython3",
   "version": "3.9.12"
  }
 },
 "nbformat": 4,
 "nbformat_minor": 5
}
