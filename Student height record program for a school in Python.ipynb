{
 "cells": [
  {
   "cell_type": "code",
   "execution_count": 1,
   "id": "7fb4734b",
   "metadata": {},
   "outputs": [
    {
     "name": "stdout",
     "output_type": "stream",
     "text": [
      "Enter the name of the student: prem\n",
      "Enter the height recorded: 450\n",
      "another student? y/n y\n",
      "Enter the name of the student: Bijay\n",
      "Enter the height recorded: 475\n",
      "another student? y/n y\n",
      "Enter the name of the student: Gauri\n",
      "Enter the height recorded: 465\n",
      "another student? y/n y\n",
      "Enter the name of the student: Lakshman\n",
      "Enter the height recorded: 466\n",
      "another student? y/n n\n",
      "1 .  prem : 450\n",
      "2 .  Bijay : 475\n",
      "3 .  Gauri : 465\n",
      "4 .  Lakshman : 466\n"
     ]
    }
   ],
   "source": [
    "# definig a class student, \n",
    "# which contain name and height of the student\n",
    "\n",
    "class Student(object):\n",
    "    def __init__(self, name, height):\n",
    "        self.name = name\n",
    "        self.height = height\n",
    "    \n",
    "    def getheight(self):\n",
    "        return self.height\n",
    "    \n",
    "    def __str__(self):\n",
    "        return self.name + ' : ' + str(self.getheight())\n",
    "  \n",
    "# Defining a function for building a Menu \n",
    "# which generates list of Food    \n",
    "def HeightRecord(rec, name, height):\n",
    "    rec.append(Student(name, height))\n",
    "    return rec\n",
    "\n",
    "Record = []\n",
    "x = 'y'\n",
    "while x == 'y':\n",
    "    name = input('Enter the name of the student: ')\n",
    "    height = input('Enter the height recorded: ')\n",
    "    Record = HeightRecord(Record, name, height)\n",
    "    x = input('another student? y/n ')\n",
    "    \n",
    "n = 1\n",
    "for el in Record:\n",
    "    print(n,'. ', el)\n",
    "    n = n + 1\n"
   ]
  },
  {
   "cell_type": "code",
   "execution_count": null,
   "id": "36fef219",
   "metadata": {},
   "outputs": [],
   "source": []
  }
 ],
 "metadata": {
  "kernelspec": {
   "display_name": "Python 3 (ipykernel)",
   "language": "python",
   "name": "python3"
  },
  "language_info": {
   "codemirror_mode": {
    "name": "ipython",
    "version": 3
   },
   "file_extension": ".py",
   "mimetype": "text/x-python",
   "name": "python",
   "nbconvert_exporter": "python",
   "pygments_lexer": "ipython3",
   "version": "3.9.12"
  }
 },
 "nbformat": 4,
 "nbformat_minor": 5
}
