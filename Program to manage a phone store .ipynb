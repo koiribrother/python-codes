{
 "cells": [
  {
   "cell_type": "code",
   "execution_count": 1,
   "id": "d4461d06",
   "metadata": {},
   "outputs": [
    {
     "name": "stdout",
     "output_type": "stream",
     "text": [
      "Enter the name of the Phone: Realme 8\n",
      "Enter the model number: 1234567890\n",
      "price: 18000\n",
      "Another Phone? y/n: y\n",
      "Enter the name of the Phone: iphone \n",
      "Enter the model number: 1234567890\n",
      "price: 100000\n",
      "Another Phone? y/n: y\n",
      "Enter the name of the Phone: Redmi 11 pro\n",
      "Enter the model number: 1234567890\n",
      "price: 200000\n",
      "Another Phone? y/n: n\n",
      "---The list of the phone that store have---\n",
      "1 .  Realme 8 : 18000  ::1234567890\n",
      "2 .  iphone  : 100000  ::1234567890\n",
      "3 .  Redmi 11 pro : 200000  ::1234567890\n"
     ]
    }
   ],
   "source": [
    "# Definig a class Phone, which contain \n",
    "# Phone name, model number and price of the Phone\n",
    "\n",
    "class Phone(object):\n",
    "    def __init__(self, phnname, model, price):\n",
    "        self.phnname = phnname\n",
    "        self.model = model\n",
    "        self.price = price\n",
    "    \n",
    "    def getprice(self):\n",
    "        return self.price\n",
    "    \n",
    "    def getmodel(self):\n",
    "        return self.model\n",
    "    \n",
    "    def __str__(self):\n",
    "        return self.phnname + ' : ' + str(self.getmodel()) +'  ::'+  str(self.getprice())\n",
    "  \n",
    "# Defining a function which generates \n",
    "# list of all the Phones    \n",
    "def prices(rec, phnname, model, price):\n",
    "    rec.append(Phone(phnname, model, price))\n",
    "    return rec\n",
    "\n",
    "# Main Code\n",
    "Record = []\n",
    "x = 'y'\n",
    "while x == 'y':\n",
    "    phnname = input('Enter the name of the Phone: ')\n",
    "    height = input('Enter the model number: ')\n",
    "    model = input('price: ')\n",
    "    Record = prices(Record, phnname, model, height)\n",
    "    x = input('Another Phone? y/n: ')\n",
    "    \n",
    "# Printing the list of Phone\n",
    "n = 1\n",
    "print(\"---The list of the phone that store have---\")\n",
    "for el in Record:\n",
    "    print(n,'. ', el)\n",
    "    n = n + 1\n"
   ]
  },
  {
   "cell_type": "code",
   "execution_count": null,
   "id": "17e4fa5f",
   "metadata": {},
   "outputs": [],
   "source": []
  }
 ],
 "metadata": {
  "kernelspec": {
   "display_name": "Python 3 (ipykernel)",
   "language": "python",
   "name": "python3"
  },
  "language_info": {
   "codemirror_mode": {
    "name": "ipython",
    "version": 3
   },
   "file_extension": ".py",
   "mimetype": "text/x-python",
   "name": "python",
   "nbconvert_exporter": "python",
   "pygments_lexer": "ipython3",
   "version": "3.9.12"
  }
 },
 "nbformat": 4,
 "nbformat_minor": 5
}
